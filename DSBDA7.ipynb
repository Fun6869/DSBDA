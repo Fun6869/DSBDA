{
  "cells": [
    {
      "cell_type": "code",
      "execution_count": 1,
      "id": "1ca2e80f-b3ea-4022-a966-a41be15b9b8a",
      "metadata": {
        "colab": {
          "base_uri": "https://localhost:8080/"
        },
        "id": "1ca2e80f-b3ea-4022-a966-a41be15b9b8a",
        "outputId": "395783c0-a3a6-42d6-e8b6-b188c0fb6216"
      },
      "outputs": [
        {
          "output_type": "stream",
          "name": "stderr",
          "text": [
            "[nltk_data] Downloading package punkt_tab to /root/nltk_data...\n",
            "[nltk_data]   Unzipping tokenizers/punkt_tab.zip.\n",
            "[nltk_data] Downloading package stopwords to /root/nltk_data...\n",
            "[nltk_data]   Unzipping corpora/stopwords.zip.\n",
            "[nltk_data] Downloading package wordnet to /root/nltk_data...\n",
            "[nltk_data] Downloading package averaged_perceptron_tagger_eng to\n",
            "[nltk_data]     /root/nltk_data...\n",
            "[nltk_data]   Unzipping taggers/averaged_perceptron_tagger_eng.zip.\n"
          ]
        },
        {
          "output_type": "execute_result",
          "data": {
            "text/plain": [
              "True"
            ]
          },
          "metadata": {},
          "execution_count": 1
        }
      ],
      "source": [
        "import nltk\n",
        "import pandas as pd\n",
        "from nltk.tokenize import word_tokenize\n",
        "from nltk.corpus import stopwords\n",
        "from nltk.stem import PorterStemmer\n",
        "from nltk.stem import WordNetLemmatizer\n",
        "from nltk import pos_tag\n",
        "from sklearn.feature_extraction.text import TfidfVectorizer\n",
        "\n",
        "nltk.download('punkt_tab')\n",
        "nltk.download('stopwords')\n",
        "nltk.download('wordnet')\n",
        "nltk.download('averaged_perceptron_tagger_eng')"
      ]
    },
    {
      "cell_type": "code",
      "execution_count": null,
      "id": "7c7bbef3-77bc-46d1-bb99-d0914e4098c8",
      "metadata": {
        "id": "7c7bbef3-77bc-46d1-bb99-d0914e4098c8"
      },
      "outputs": [],
      "source": [
        "document = \"\"\"\n",
        "   \"I love programming in Python. It's very interesting and fun to solve problems using Python This is the Seventh Practical.\"\n",
        "\"\"\""
      ]
    },
    {
      "cell_type": "code",
      "execution_count": null,
      "id": "363f34b8-0ca6-4846-864b-7520cba82d1b",
      "metadata": {
        "id": "363f34b8-0ca6-4846-864b-7520cba82d1b",
        "outputId": "3df80338-3534-4120-9f64-56832cab7a83"
      },
      "outputs": [
        {
          "data": {
            "text/plain": [
              "['``',\n",
              " 'I',\n",
              " 'love',\n",
              " 'programming',\n",
              " 'in',\n",
              " 'Python',\n",
              " '.',\n",
              " 'It',\n",
              " \"'s\",\n",
              " 'very',\n",
              " 'interesting',\n",
              " 'and',\n",
              " 'fun',\n",
              " 'to',\n",
              " 'solve',\n",
              " 'problems',\n",
              " 'using',\n",
              " 'Python',\n",
              " 'This',\n",
              " 'is',\n",
              " 'the',\n",
              " 'Seventh',\n",
              " 'Practical',\n",
              " '.',\n",
              " \"''\"]"
            ]
          },
          "execution_count": 93,
          "metadata": {},
          "output_type": "execute_result"
        }
      ],
      "source": [
        "tokens = word_tokenize(document)\n",
        "tokens"
      ]
    },
    {
      "cell_type": "code",
      "execution_count": null,
      "id": "c8c4819a-e5f4-4646-9a07-a0e8b7a721a1",
      "metadata": {
        "scrolled": true,
        "id": "c8c4819a-e5f4-4646-9a07-a0e8b7a721a1",
        "outputId": "970c2c52-da19-43f3-fd31-c56dd1933683"
      },
      "outputs": [
        {
          "name": "stdout",
          "output_type": "stream",
          "text": [
            "POS Tags: [('``', '``'), ('I', 'PRP'), ('love', 'VBP'), ('programming', 'VBG'), ('in', 'IN'), ('Python', 'NNP'), ('.', '.'), ('It', 'PRP'), (\"'s\", 'VBZ'), ('very', 'RB'), ('interesting', 'JJ'), ('and', 'CC'), ('fun', 'NN'), ('to', 'TO'), ('solve', 'VB'), ('problems', 'NNS'), ('using', 'VBG'), ('Python', 'NNP'), ('This', 'DT'), ('is', 'VBZ'), ('the', 'DT'), ('Seventh', 'JJ'), ('Practical', 'NNP'), ('.', '.'), (\"''\", \"''\")]\n"
          ]
        }
      ],
      "source": [
        "pos_tags = pos_tag(tokens)\n",
        "print(\"POS Tags:\", pos_tags)"
      ]
    },
    {
      "cell_type": "code",
      "execution_count": null,
      "id": "7dcc85be-3763-4745-bdc4-6ca9a701843e",
      "metadata": {
        "id": "7dcc85be-3763-4745-bdc4-6ca9a701843e",
        "outputId": "e5aac665-21ff-413b-8efc-5d457f086b13"
      },
      "outputs": [
        {
          "name": "stdout",
          "output_type": "stream",
          "text": [
            "Filtered Tokens (No Stop Words): ['``', 'love', 'programming', 'Python', '.', \"'s\", 'interesting', 'fun', 'solve', 'problems', 'using', 'Python', 'Seventh', 'Practical', '.', \"''\"]\n"
          ]
        }
      ],
      "source": [
        "stop_words = set(stopwords.words('english'))\n",
        "filtered_tokens = [word for word in tokens if word.lower() not in stop_words]\n",
        "print(\"Filtered Tokens (No Stop Words):\", filtered_tokens)"
      ]
    },
    {
      "cell_type": "code",
      "execution_count": null,
      "id": "083f7410-c007-483a-b9e5-ffedbdc41ba0",
      "metadata": {
        "id": "083f7410-c007-483a-b9e5-ffedbdc41ba0",
        "outputId": "523ffc7d-51c5-430f-9432-13b7fb1736b3"
      },
      "outputs": [
        {
          "name": "stdout",
          "output_type": "stream",
          "text": [
            "Stemmed Tokens: ['``', 'love', 'program', 'python', '.', \"'s\", 'interest', 'fun', 'solv', 'problem', 'use', 'python', 'seventh', 'practic', '.', \"''\"]\n"
          ]
        }
      ],
      "source": [
        "\n",
        "stemmer = PorterStemmer()\n",
        "stemmed_tokens = [stemmer.stem(word) for word in filtered_tokens]\n",
        "print(\"Stemmed Tokens:\", stemmed_tokens)\n"
      ]
    },
    {
      "cell_type": "code",
      "execution_count": null,
      "id": "6025442c-5c15-4a3a-b208-a85c97dba6c4",
      "metadata": {
        "id": "6025442c-5c15-4a3a-b208-a85c97dba6c4",
        "outputId": "374c6b2d-3c93-4bc2-d607-8e53d976ddbc"
      },
      "outputs": [
        {
          "name": "stdout",
          "output_type": "stream",
          "text": [
            "Lemmatized Tokens: ['``', 'love', 'programming', 'Python', '.', \"'s\", 'interesting', 'fun', 'solve', 'problem', 'using', 'Python', 'Seventh', 'Practical', '.', \"''\"]\n"
          ]
        }
      ],
      "source": [
        "\n",
        "lemmatizer = WordNetLemmatizer()\n",
        "lemmatized_tokens = [lemmatizer.lemmatize(word) for word in filtered_tokens]\n",
        "print(\"Lemmatized Tokens:\", lemmatized_tokens)\n"
      ]
    },
    {
      "cell_type": "code",
      "execution_count": null,
      "id": "2a013720-9649-4c84-8b42-a827b828ff25",
      "metadata": {
        "id": "2a013720-9649-4c84-8b42-a827b828ff25",
        "outputId": "98ee0123-56b6-473d-e785-23d33ba8ece9"
      },
      "outputs": [
        {
          "name": "stdout",
          "output_type": "stream",
          "text": [
            "Term Frequency (TF): {'``': 0.0625, 'love': 0.0625, 'programming': 0.0625, 'Python': 0.125, '.': 0.125, \"'s\": 0.0625, 'interesting': 0.0625, 'fun': 0.0625, 'solve': 0.0625, 'problems': 0.0625, 'using': 0.0625, 'Seventh': 0.0625, 'Practical': 0.0625, \"''\": 0.0625}\n"
          ]
        }
      ],
      "source": [
        "from collections import Counter\n",
        "word_counts = Counter(filtered_tokens)\n",
        "total_words = len(filtered_tokens)\n",
        "tf = {word: count / total_words for word, count in word_counts.items()}\n",
        "print(\"Term Frequency (TF):\", tf)"
      ]
    },
    {
      "cell_type": "code",
      "execution_count": null,
      "id": "3049e496-12b0-4417-b5be-6b50e2b9f215",
      "metadata": {
        "id": "3049e496-12b0-4417-b5be-6b50e2b9f215"
      },
      "outputs": [],
      "source": []
    }
  ],
  "metadata": {
    "kernelspec": {
      "display_name": "Python 3 (ipykernel)",
      "language": "python",
      "name": "python3"
    },
    "language_info": {
      "codemirror_mode": {
        "name": "ipython",
        "version": 3
      },
      "file_extension": ".py",
      "mimetype": "text/x-python",
      "name": "python",
      "nbconvert_exporter": "python",
      "pygments_lexer": "ipython3",
      "version": "3.12.7"
    },
    "colab": {
      "provenance": []
    }
  },
  "nbformat": 4,
  "nbformat_minor": 5
}